{
 "cells": [
  {
   "cell_type": "code",
   "execution_count": null,
   "metadata": {},
   "outputs": [],
   "source": [
    "import os\n",
    "from kaggle.api.kaggle_api_extended import KaggleApi"
   ]
  },
  {
   "cell_type": "code",
   "execution_count": null,
   "metadata": {},
   "outputs": [],
   "source": [
    "# Ensure you have your API key in the appropriate location\n",
    "kaggle_api_token_path = 'kaggle.json'\n",
    "if not os.path.exists(kaggle_api_token_path):\n",
    "    raise FileNotFoundError(\"Kaggle API token not found. Please place kaggle.json in the same directory as this script.\")\n",
    "\n",
    "# Initialize the Kaggle API\n",
    "api = KaggleApi()\n",
    "api.authenticate()\n",
    "\n",
    "# Specify the dataset to download\n",
    "dataset_path = 'andradaolteanu/gtzan-dataset-music-genre-classification'\n",
    "\n",
    "# Create a directory to store the dataset\n",
    "dataset_dir = os.path.join(os.path.dirname(os.path.abspath(__file__)), '..', 'data')\n",
    "os.makedirs(dataset_dir, exist_ok=True)\n",
    "\n",
    "# Download the dataset\n",
    "api.dataset_download_files(dataset_path, path=dataset_dir, unzip=True)\n",
    "\n",
    "print(f'Dataset {dataset_path.split(\"/\")[-1]} downloaded and extracted to {dataset_dir}')\n",
    "\n"
   ]
  }
 ],
 "metadata": {
  "kernelspec": {
   "display_name": "venv",
   "language": "python",
   "name": "python3"
  },
  "language_info": {
   "codemirror_mode": {
    "name": "ipython",
    "version": 3
   },
   "file_extension": ".py",
   "mimetype": "text/x-python",
   "name": "python",
   "nbconvert_exporter": "python",
   "pygments_lexer": "ipython3",
   "version": "3.11.4"
  }
 },
 "nbformat": 4,
 "nbformat_minor": 2
}
